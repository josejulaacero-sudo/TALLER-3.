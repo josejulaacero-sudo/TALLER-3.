{
  "cells": [
    {
      "cell_type": "markdown",
      "metadata": {
        "id": "view-in-github",
        "colab_type": "text"
      },
      "source": [
        "<a href=\"https://colab.research.google.com/github/josejulaacero-sudo/TALLER-3./blob/main/regresion_lineal.ipynb\" target=\"_parent\"><img src=\"https://colab.research.google.com/assets/colab-badge.svg\" alt=\"Open In Colab\"/></a>"
      ]
    },
    {
      "cell_type": "markdown",
      "metadata": {
        "id": "Ii_7DdtJH8e2"
      },
      "source": [
        "# Taller 3: Regresión Lineal y Conceptos Fundamentales\n",
        "\n",
        "\n"
      ],
      "id": "Ii_7DdtJH8e2"
    },
    {
      "cell_type": "markdown",
      "metadata": {
        "id": "1KuTZ6PkH8e5"
      },
      "source": [
        "## Instrucciones Generales\n",
        "\n",
        "**Fecha de entrega:** 20 de septiembre.\n",
        "**Tiempo disponible:** Tienen dos clases y el fin de semana para completar el taller.\n",
        "\n",
        "1.  **Trabajo en Grupo:** Este taller se debe realizar en los grupos previamente definidos.\n",
        "2.  **Repositorio en GitHub:** Cada grupo debe crear un repositorio en GitHub.\n",
        "    * Una sola persona del grupo es responsable de crearlo.\n",
        "    * El repositorio debe llamarse **`Regresion_Lineal`**.\n",
        "    * Este archivo debe ser subido al repositorio con el nombre **`Regresion_Lineal.ipynb`**.\n",
        "    * **Alternativa:** Si tienen complicaciones con GitHub, pueden enviar el enlace del cuaderno de Google Colab al aula virtual.\n",
        "3.  **Actividad a Mano (20% de la nota):**\n",
        "    * La asistencia a clase es **obligatoria**.\n",
        "    * Se realizará una actividad práctica de regresión lineal a mano.\n",
        "    * Cada integrante del grupo deberá firmar la hoja de la actividad, la cual constituye el 20% de la nota de este taller.\n",
        "\n",
        "**Integrantes :**\n",
        "1. Jose Steven Jula Acero 76851\n",
        "2. Heidy Johanna Santamaria Silva 63039    "
      ],
      "id": "1KuTZ6PkH8e5"
    },
    {
      "cell_type": "markdown",
      "metadata": {
        "id": "mgaEeFAbH8e7"
      },
      "source": [
        "---"
      ],
      "id": "mgaEeFAbH8e7"
    },
    {
      "cell_type": "markdown",
      "metadata": {
        "id": "et22XL5bH8e7"
      },
      "source": [
        "## **Parte 1: Definición del Problema**\n",
        "\n",
        "Piensa en tu experiencia académica o laboral en un área de operaciones y elige **un problema** relacionado con inventarios, calidad, mantenimiento o productividad.\n",
        "\n",
        "1.  Indica cuál es tu variable dependiente **$Y$** (aquello que quieres predecir o clasificar).\n",
        "2.  Lista entre 3 y 5 variables independientes **$X$** que medirías para predecir $Y$.\n",
        "3.  Especifica si tu problema es de **regresión** (predecir un valor numérico) o de **clasificación**."
      ],
      "id": "et22XL5bH8e7"
    },
    {
      "cell_type": "markdown",
      "metadata": {
        "id": "pxSLPR4AH8e8"
      },
      "source": [
        "**Respuesta (escribe aquí):**\n",
        "\n",
        "**Definicion del problema**\n",
        "\n",
        "En la línea de producción del geotextil no tejido 1600, se ha identificado un problema de baja productividad, reflejado en un nivel de eficiencia promedio de apenas el 65% frente a un estándar esperado del 90%.\n",
        "\n",
        "Este bajo desempeño genera una brecha significativa entre la producción planificada y la real, lo que impacta negativamente en:\n",
        "\n",
        "El cumplimiento de los pedidos del cliente.\n",
        "\n",
        "El incremento de los costos unitarios por metro cuadrado producido.\n",
        "\n",
        "El aumento de tiempos de entrega y riesgo de incumplimiento contractual.\n",
        "\n",
        "Los factores que podrían estar asociados a esta baja productividad incluyen:\n",
        "\n",
        "Altas mermas de material respecto al estándar.\n",
        "\n",
        "Paradas no programadas por mantenimiento correctivo.\n",
        "\n",
        "Ajustes en la velocidad de la línea por inestabilidad en los insumos.\n",
        "\n",
        "El objetivo del análisis es identificar y cuantificar el efecto de estas variables sobre la productividad, para poder implementar acciones correctivas y preventivas que permitan recuperar los niveles esperados de eficiencia en la operación.\n",
        "\n",
        "• Variable dependiente (Y): Productividad real del geotextil no tejido 1600 (m²/hora).\n",
        "• Variables independientes (X):\n",
        "   1. Horas efectivas de operación de la línea.\n",
        "   2. Porcentaje de mermas (%).\n",
        "   3. Tiempo de paradas no programadas (horas).\n",
        "   4. Velocidad de la línea (m/min).\n",
        "• Tipo de problema: Regresión, porque queremos predecir un valor numérico (productividad).\n",
        "\n"
      ],
      "id": "pxSLPR4AH8e8"
    },
    {
      "cell_type": "markdown",
      "metadata": {
        "id": "fGoj1KxxH8e8"
      },
      "source": [
        "---"
      ],
      "id": "fGoj1KxxH8e8"
    },
    {
      "cell_type": "markdown",
      "metadata": {
        "id": "eHOtOSQiH8e9"
      },
      "source": [
        "## **Parte 2: Preprocesamiento de Datos y *Leakage***\n",
        "\n",
        "Basado en el caso que definiste en la Parte 1:\n",
        "\n",
        "1.  Lista entre 3 y 5 **transformaciones** que aplicarías a tus datos (ej. imputación de valores faltantes, codificación de variables categóricas, escalado, creación de *lags*, etc.) y **justifica por qué** cada una es necesaria.\n",
        "2.  Señala un posible riesgo de ***data leakage*** (fuga de datos) en tu plan y explica cómo lo evitarías usando un *pipeline* de preprocesamiento."
      ],
      "id": "eHOtOSQiH8e9"
    },
    {
      "cell_type": "markdown",
      "metadata": {
        "id": "6KYkmr9mH8e9"
      },
      "source": [
        "**Respuesta:**\n",
        "\n",
        "   1. Imputación de valores faltantes → en caso de que falten registros de paradas o mermas.\n",
        "   2. Escalado de variables → normalizar velocidad y horas para que estén en la misma escala.\n",
        "   3. Codificación de variables categóricas → si incluimos turno (mañana, tarde, noche) como variable.\n",
        "   4. Creación de lags → para capturar el efecto de paradas previas en la productividad.\n",
        "• Riesgo de data leakage: Usar información futura (por ejemplo, productividad semanal total) para predecir valores diarios.\n",
        "• Prevención: Construir un pipeline que divida datos en entrenamiento/prueba y aplique transformaciones solo en entrenamiento, replicándolas en prueba.\n"
      ],
      "id": "6KYkmr9mH8e9"
    },
    {
      "cell_type": "markdown",
      "metadata": {
        "id": "hbyCKrY6H8e-"
      },
      "source": [
        "---"
      ],
      "id": "hbyCKrY6H8e-"
    },
    {
      "cell_type": "markdown",
      "metadata": {
        "id": "ukCTM2EKH8e-"
      },
      "source": [
        "## **Parte 3: Interpretación y Métricas de Regresión Simple**\n",
        "\n",
        "Para esta sección, elige un caso simple de regresión (puede ser el tuyo o uno hipotético, como predecir la demanda de un producto según su precio).\n",
        "\n",
        "1.  Define claramente las variables **$Y$** y **$X$** junto con sus **unidades** (ej. $Y$: número de unidades vendidas, $X$: precio en dólares).\n",
        "2.  Supón que entrenas un modelo y obtienes una pendiente de **$\\hat{\\beta}_1 = -0.6$**. Escribe una interpretación clara y concisa de este coeficiente en el contexto de tu problema.\n",
        "3.  ¿Qué **métrica** de evaluación usarías (MAE, RMSE, o MAPE) y **por qué** es la más adecuada para tu caso?\n",
        "4.  Menciona **un supuesto** del modelo de regresión lineal que validarías (ej. linealidad, homocedasticidad) y explica **cómo** lo harías (usando un gráfico o una prueba estadística)."
      ],
      "id": "ukCTM2EKH8e-"
    },
    {
      "cell_type": "markdown",
      "metadata": {
        "id": "5KGzW8pSH8e_"
      },
      "source": [
        "**Respuesta :**\n",
        "• Variable dependiente (Y): Productividad (m²/hora).\n",
        "• Variable independiente (X): Velocidad de la línea (m/min).\n",
        "• Interpretación de la pendiente (ej. β1 = 25): Por cada aumento de 1 m/min en la velocidad de la línea, la productividad aumenta en promedio 25 m²/hora.\n",
        "• Métrica de evaluación: RMSE, porque penaliza más los errores grandes y en productividad estos son críticos.\n",
        "• Supuesto a validar: Homocedasticidad → revisando un gráfico de residuos vs valores ajustados para verificar que la varianza sea constante.\n"
      ],
      "id": "5KGzW8pSH8e_"
    },
    {
      "cell_type": "markdown",
      "metadata": {
        "id": "NlCf92svH8e_"
      },
      "source": [
        "---"
      ],
      "id": "NlCf92svH8e_"
    },
    {
      "cell_type": "markdown",
      "metadata": {
        "id": "DEOrd_fSH8e_"
      },
      "source": [
        "## **Parte 4: Regresión Múltiple y Colinealidad**\n",
        "\n",
        "Volviendo a tu caso de la Parte 1 (con múltiples variables).\n",
        "\n",
        "1.  Escribe el **vector de variables** $\\vec{X}$ y la **respuesta** $Y$.\n",
        "2.  Explica cómo interpretarías el **coeficiente** de una de tus variables clave (incluyendo unidades y el sentido de la relación: positiva o negativa).\n",
        "3.  Si sospecharas que existe **colinealidad** entre tus variables, menciona **dos acciones** que podrías tomar para mitigarla."
      ],
      "id": "DEOrd_fSH8e_"
    },
    {
      "cell_type": "markdown",
      "metadata": {
        "id": "REUWPUP_H8fA"
      },
      "source": [
        "**Respuesta :**\n",
        "\n",
        "• Vector de variables (X): [Horas efectivas, % mermas, paradas no programadas, velocidad de la línea].\n",
        "• Respuesta (Y): Productividad real (m²/hora).\n",
        "• Interpretación de un coeficiente (ej. % mermas, β = –80): Si el % de mermas aumenta en 1 punto porcentual, la productividad disminuye en promedio 80 m²/hora, manteniendo las demás variables constantes.\n",
        "• Acciones contra colinealidad:\n",
        "   1. Eliminar una variable redundante.\n",
        "   2. Aplicar técnicas de reducción de dimensionalidad como PCA.\n"
      ],
      "id": "REUWPUP_H8fA"
    },
    {
      "cell_type": "markdown",
      "metadata": {
        "id": "Kfz2bBkzH8fA"
      },
      "source": [
        "---"
      ],
      "id": "Kfz2bBkzH8fA"
    },
    {
      "cell_type": "markdown",
      "metadata": {
        "id": "d0sQYW3DH8fA"
      },
      "source": [
        "## **Parte 5: Interacciones y Multicolinealidad (VIF)**\n",
        "\n",
        "1.  Plantea un caso con una variable $Y$ y entre 4 y 6 variables $X$. ¿Qué término de **interacción** entre dos variables podrías añadir al modelo y **por qué** crees que sería útil?\n",
        "2.  Si al calcular el Factor de Inflación de la Varianza (VIF) para una variable, obtienes un valor alto (ej. > 10), menciona **dos acciones** que podrías tomar para solucionarlo."
      ],
      "id": "d0sQYW3DH8fA"
    },
    {
      "cell_type": "markdown",
      "metadata": {
        "id": "tEgefQ1cH8fA"
      },
      "source": [
        "**Respuesta :**\n",
        "\n",
        "• Caso con variables:\n",
        "   - Y: Productividad.\n",
        "   - X: Horas efectivas, % mermas, paradas no programadas, velocidad de la línea, turno, temperatura de operación.\n",
        "• Interacción propuesta: Velocidad de la línea × Turno → útil porque la relación entre velocidad y productividad puede variar según el turno (mañana, tarde, noche).\n",
        "• Si VIF > 10:\n",
        "   1. Eliminar la variable con colinealidad.\n",
        "   2. Combinar variables correlacionadas en un solo indicador (ej. índice de eficiencia).\n"
      ],
      "id": "tEgefQ1cH8fA"
    },
    {
      "cell_type": "markdown",
      "metadata": {
        "id": "8XdQIyu_H8fB"
      },
      "source": [
        "---"
      ],
      "id": "8XdQIyu_H8fB"
    },
    {
      "cell_type": "markdown",
      "metadata": {
        "id": "XKsr-uPlH8fB"
      },
      "source": [
        "## **Parte 6: Variables Categóricas e Interacciones**\n",
        "\n",
        "1.  Define una **variable categórica** para tu caso (puedes inventarla si no la tenías). Elige una de sus categorías como el nivel **base** o de referencia y **justifica** tu elección.\n",
        "2.  Crea una **interacción** entre una variable numérica y la variable categórica que definiste. Explica cómo se interpretaría el coeficiente de esta interacción."
      ],
      "id": "XKsr-uPlH8fB"
    },
    {
      "cell_type": "markdown",
      "metadata": {
        "id": "7i_JBwwbH8fC"
      },
      "source": [
        "**Respuesta :**\n",
        "\n",
        "• Variable categórica: Turno (mañana, tarde, noche).\n",
        "• Nivel base elegido: Turno de la mañana, porque es el de referencia estándar con menos interrupciones.\n",
        "• Interacción: Velocidad de la línea × Turno → si el coeficiente es positivo para “tarde”, significa que aumentar velocidad en ese turno genera mayor productividad adicional comparado con la mañana.\n"
      ],
      "id": "7i_JBwwbH8fC"
    },
    {
      "cell_type": "markdown",
      "metadata": {
        "id": "DjYrQWpqH8fC"
      },
      "source": [
        "---"
      ],
      "id": "DjYrQWpqH8fC"
    },
    {
      "cell_type": "markdown",
      "metadata": {
        "id": "mG9YJpeoH8fC"
      },
      "source": [
        "## **Parte 7: Conceptos Clave de Clasificación**\n",
        "\n",
        "Aunque el taller se centra en regresión, estos conceptos son fundamentales en Machine Learning.\n",
        "\n",
        "1.  Explica qué es la **curva ROC** y para qué se utiliza en un problema de clasificación.\n",
        "2.  Define el concepto de **accuracy** (exactitud) y menciona una situación en la que podría ser una métrica engañosa.\n",
        "3.  Describe qué es una **matriz de confusión** y cómo se interpretan sus componentes (Verdaderos Positivos, Falsos Positivos, Verdaderos Negativos, Falsos Negativos)."
      ],
      "id": "mG9YJpeoH8fC"
    },
    {
      "cell_type": "markdown",
      "metadata": {
        "id": "aq-cYN3nH8fD"
      },
      "source": [
        "**Respuesta :**\n",
        "\n",
        "• Curva ROC: Gráfico que compara tasa de verdaderos positivos vs tasa de falsos positivos para distintos umbrales. Se usa para evaluar modelos de clasificación.\n",
        "• Accuracy: Proporción de predicciones correctas. Puede ser engañosa si hay clases desbalanceadas (ej. predecir defectos cuando solo el 5% son defectuosos).\n",
        "• Matriz de confusión: Tabla que muestra resultados:\n",
        "   - Verdaderos Positivos (VP): casos bien clasificados como positivos.\n",
        "   - Falsos Positivos (FP): casos clasificados como positivos, pero eran negativos.\n",
        "   - Verdaderos Negativos (VN): casos bien clasificados como negativos.\n",
        "   - Falsos Negativos (FN): casos clasificados como negativos, pero eran positivos.\n"
      ],
      "id": "aq-cYN3nH8fD"
    }
  ],
  "metadata": {
    "kernelspec": {
      "display_name": "Python 3",
      "language": "python",
      "name": "python3"
    },
    "language_info": {
      "name": "python",
      "version": "3.x"
    },
    "colab": {
      "provenance": [],
      "include_colab_link": true
    }
  },
  "nbformat": 4,
  "nbformat_minor": 5
}